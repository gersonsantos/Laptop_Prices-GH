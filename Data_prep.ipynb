{
 "cells": [
  {
   "cell_type": "code",
   "execution_count": 1,
   "metadata": {},
   "outputs": [],
   "source": [
    "import pandas as pd\n",
    "import numpy as np \n",
    "import matplotlib.pyplot as plt \n",
    "import seaborn as sns\n",
    "sns.set()"
   ]
  },
  {
   "cell_type": "code",
   "execution_count": 2,
   "metadata": {},
   "outputs": [
    {
     "data": {
      "text/html": [
       "<div>\n",
       "<style scoped>\n",
       "    .dataframe tbody tr th:only-of-type {\n",
       "        vertical-align: middle;\n",
       "    }\n",
       "\n",
       "    .dataframe tbody tr th {\n",
       "        vertical-align: top;\n",
       "    }\n",
       "\n",
       "    .dataframe thead th {\n",
       "        text-align: right;\n",
       "    }\n",
       "</style>\n",
       "<table border=\"1\" class=\"dataframe\">\n",
       "  <thead>\n",
       "    <tr style=\"text-align: right;\">\n",
       "      <th></th>\n",
       "      <th>brand</th>\n",
       "      <th>processor_brand</th>\n",
       "      <th>processor_name</th>\n",
       "      <th>processor_gnrtn</th>\n",
       "      <th>ram_gb</th>\n",
       "      <th>ram_type</th>\n",
       "      <th>ssd</th>\n",
       "      <th>hdd</th>\n",
       "      <th>os</th>\n",
       "      <th>os_bit</th>\n",
       "      <th>graphic_card_gb</th>\n",
       "      <th>weight</th>\n",
       "      <th>warranty</th>\n",
       "      <th>Touchscreen</th>\n",
       "      <th>msoffice</th>\n",
       "      <th>Price</th>\n",
       "      <th>rating</th>\n",
       "      <th>Number of Ratings</th>\n",
       "      <th>Number of Reviews</th>\n",
       "    </tr>\n",
       "  </thead>\n",
       "  <tbody>\n",
       "    <tr>\n",
       "      <th>0</th>\n",
       "      <td>ASUS</td>\n",
       "      <td>Intel</td>\n",
       "      <td>Core i3</td>\n",
       "      <td>10th</td>\n",
       "      <td>4 GB</td>\n",
       "      <td>DDR4</td>\n",
       "      <td>0 GB</td>\n",
       "      <td>1024 GB</td>\n",
       "      <td>Windows</td>\n",
       "      <td>64-bit</td>\n",
       "      <td>0 GB</td>\n",
       "      <td>Casual</td>\n",
       "      <td>No warranty</td>\n",
       "      <td>No</td>\n",
       "      <td>No</td>\n",
       "      <td>34649</td>\n",
       "      <td>2 stars</td>\n",
       "      <td>3</td>\n",
       "      <td>0</td>\n",
       "    </tr>\n",
       "    <tr>\n",
       "      <th>1</th>\n",
       "      <td>Lenovo</td>\n",
       "      <td>Intel</td>\n",
       "      <td>Core i3</td>\n",
       "      <td>10th</td>\n",
       "      <td>4 GB</td>\n",
       "      <td>DDR4</td>\n",
       "      <td>0 GB</td>\n",
       "      <td>1024 GB</td>\n",
       "      <td>Windows</td>\n",
       "      <td>64-bit</td>\n",
       "      <td>0 GB</td>\n",
       "      <td>Casual</td>\n",
       "      <td>No warranty</td>\n",
       "      <td>No</td>\n",
       "      <td>No</td>\n",
       "      <td>38999</td>\n",
       "      <td>3 stars</td>\n",
       "      <td>65</td>\n",
       "      <td>5</td>\n",
       "    </tr>\n",
       "    <tr>\n",
       "      <th>2</th>\n",
       "      <td>Lenovo</td>\n",
       "      <td>Intel</td>\n",
       "      <td>Core i3</td>\n",
       "      <td>10th</td>\n",
       "      <td>4 GB</td>\n",
       "      <td>DDR4</td>\n",
       "      <td>0 GB</td>\n",
       "      <td>1024 GB</td>\n",
       "      <td>Windows</td>\n",
       "      <td>64-bit</td>\n",
       "      <td>0 GB</td>\n",
       "      <td>Casual</td>\n",
       "      <td>No warranty</td>\n",
       "      <td>No</td>\n",
       "      <td>No</td>\n",
       "      <td>39999</td>\n",
       "      <td>3 stars</td>\n",
       "      <td>8</td>\n",
       "      <td>1</td>\n",
       "    </tr>\n",
       "    <tr>\n",
       "      <th>3</th>\n",
       "      <td>ASUS</td>\n",
       "      <td>Intel</td>\n",
       "      <td>Core i5</td>\n",
       "      <td>10th</td>\n",
       "      <td>8 GB</td>\n",
       "      <td>DDR4</td>\n",
       "      <td>512 GB</td>\n",
       "      <td>0 GB</td>\n",
       "      <td>Windows</td>\n",
       "      <td>32-bit</td>\n",
       "      <td>2 GB</td>\n",
       "      <td>Casual</td>\n",
       "      <td>No warranty</td>\n",
       "      <td>No</td>\n",
       "      <td>No</td>\n",
       "      <td>69990</td>\n",
       "      <td>3 stars</td>\n",
       "      <td>0</td>\n",
       "      <td>0</td>\n",
       "    </tr>\n",
       "    <tr>\n",
       "      <th>4</th>\n",
       "      <td>ASUS</td>\n",
       "      <td>Intel</td>\n",
       "      <td>Celeron Dual</td>\n",
       "      <td>Not Available</td>\n",
       "      <td>4 GB</td>\n",
       "      <td>DDR4</td>\n",
       "      <td>0 GB</td>\n",
       "      <td>512 GB</td>\n",
       "      <td>Windows</td>\n",
       "      <td>64-bit</td>\n",
       "      <td>0 GB</td>\n",
       "      <td>Casual</td>\n",
       "      <td>No warranty</td>\n",
       "      <td>No</td>\n",
       "      <td>No</td>\n",
       "      <td>26990</td>\n",
       "      <td>3 stars</td>\n",
       "      <td>0</td>\n",
       "      <td>0</td>\n",
       "    </tr>\n",
       "  </tbody>\n",
       "</table>\n",
       "</div>"
      ],
      "text/plain": [
       "    brand processor_brand processor_name processor_gnrtn ram_gb ram_type  \\\n",
       "0    ASUS           Intel        Core i3            10th   4 GB     DDR4   \n",
       "1  Lenovo           Intel        Core i3            10th   4 GB     DDR4   \n",
       "2  Lenovo           Intel        Core i3            10th   4 GB     DDR4   \n",
       "3    ASUS           Intel        Core i5            10th   8 GB     DDR4   \n",
       "4    ASUS           Intel   Celeron Dual   Not Available   4 GB     DDR4   \n",
       "\n",
       "      ssd      hdd       os  os_bit graphic_card_gb  weight     warranty  \\\n",
       "0    0 GB  1024 GB  Windows  64-bit            0 GB  Casual  No warranty   \n",
       "1    0 GB  1024 GB  Windows  64-bit            0 GB  Casual  No warranty   \n",
       "2    0 GB  1024 GB  Windows  64-bit            0 GB  Casual  No warranty   \n",
       "3  512 GB     0 GB  Windows  32-bit            2 GB  Casual  No warranty   \n",
       "4    0 GB   512 GB  Windows  64-bit            0 GB  Casual  No warranty   \n",
       "\n",
       "  Touchscreen msoffice  Price   rating  Number of Ratings  Number of Reviews  \n",
       "0          No       No  34649  2 stars                  3                  0  \n",
       "1          No       No  38999  3 stars                 65                  5  \n",
       "2          No       No  39999  3 stars                  8                  1  \n",
       "3          No       No  69990  3 stars                  0                  0  \n",
       "4          No       No  26990  3 stars                  0                  0  "
      ]
     },
     "execution_count": 2,
     "metadata": {},
     "output_type": "execute_result"
    }
   ],
   "source": [
    "raw_df = pd.read_csv('laptopPrice.csv')\n",
    "# set the option to display all columns\n",
    "pd.set_option('display.max_columns', None)\n",
    "\n",
    "raw_df.head()"
   ]
  },
  {
   "cell_type": "code",
   "execution_count": 3,
   "metadata": {},
   "outputs": [
    {
     "data": {
      "text/plain": [
       "brand                object\n",
       "processor_brand      object\n",
       "processor_name       object\n",
       "processor_gnrtn      object\n",
       "ram_gb               object\n",
       "ram_type             object\n",
       "ssd                  object\n",
       "hdd                  object\n",
       "os                   object\n",
       "os_bit               object\n",
       "graphic_card_gb      object\n",
       "weight               object\n",
       "warranty             object\n",
       "Touchscreen          object\n",
       "msoffice             object\n",
       "Price                 int64\n",
       "rating               object\n",
       "Number of Ratings     int64\n",
       "Number of Reviews     int64\n",
       "dtype: object"
      ]
     },
     "execution_count": 3,
     "metadata": {},
     "output_type": "execute_result"
    }
   ],
   "source": [
    "#raw_df.describe\n",
    "raw_df.dtypes"
   ]
  },
  {
   "cell_type": "code",
   "execution_count": 4,
   "metadata": {},
   "outputs": [
    {
     "name": "stdout",
     "output_type": "stream",
     "text": [
      "['brand', 'processor_brand', 'processor_name', 'processor_gnrtn', 'ram_gb', 'ram_type', 'ssd', 'hdd', 'os', 'os_bit', 'graphic_card_gb', 'weight', 'warranty', 'Touchscreen', 'msoffice', 'rating']\n"
     ]
    }
   ],
   "source": [
    "typed_df = raw_df\n",
    "column_names = typed_df.columns.tolist()\n",
    "remover = ['Price', 'Number of Ratings', 'Number of Reviews'] #Numerical\n",
    "column_names = [x for x in column_names if x not in remover]\n",
    "\n",
    "print(column_names)"
   ]
  },
  {
   "cell_type": "code",
   "execution_count": 5,
   "metadata": {},
   "outputs": [
    {
     "data": {
      "text/plain": [
       "brand                string\n",
       "processor_brand      string\n",
       "processor_name       string\n",
       "processor_gnrtn      string\n",
       "ram_gb               string\n",
       "ram_type             string\n",
       "ssd                  string\n",
       "hdd                  string\n",
       "os                   string\n",
       "os_bit               string\n",
       "graphic_card_gb      string\n",
       "weight               string\n",
       "warranty             string\n",
       "Touchscreen          string\n",
       "msoffice             string\n",
       "Price                 int64\n",
       "rating               string\n",
       "Number of Ratings     int64\n",
       "Number of Reviews     int64\n",
       "dtype: object"
      ]
     },
     "execution_count": 5,
     "metadata": {},
     "output_type": "execute_result"
    }
   ],
   "source": [
    "typed_df[column_names] = typed_df[column_names].astype('string')\n",
    "typed_df.dtypes"
   ]
  },
  {
   "cell_type": "code",
   "execution_count": 6,
   "metadata": {},
   "outputs": [
    {
     "data": {
      "text/plain": [
       "count      823\n",
       "unique       4\n",
       "top       8 GB\n",
       "freq       418\n",
       "Name: ram_gb, dtype: object"
      ]
     },
     "execution_count": 6,
     "metadata": {},
     "output_type": "execute_result"
    }
   ],
   "source": [
    "#typed_df['ram_gb']\n",
    "typed_df['ram_gb'].describe()"
   ]
  },
  {
   "cell_type": "code",
   "execution_count": 8,
   "metadata": {},
   "outputs": [
    {
     "name": "stderr",
     "output_type": "stream",
     "text": [
      "C:\\Users\\Gerson Santos\\AppData\\Local\\Temp\\ipykernel_25144\\3715540523.py:1: FutureWarning: The default value of numeric_only in DataFrame.corr is deprecated. In a future version, it will default to False. Select only valid columns or specify the value of numeric_only to silence this warning.\n",
      "  correlation_matrix = typed_df.corr()\n"
     ]
    }
   ],
   "source": [
    "correlation_matrix = typed_df.corr()"
   ]
  },
  {
   "cell_type": "code",
   "execution_count": 9,
   "metadata": {},
   "outputs": [
    {
     "data": {
      "image/png": "[encoded data removed]",
      "text/plain": [
       "<Figure size 640x480 with 2 Axes>"
      ]
     },
     "metadata": {},
     "output_type": "display_data"
    }
   ],
   "source": [
    "\n",
    "# Plot a heatmap of the correlation matrix using Seaborn\n",
    "sns.heatmap(correlation_matrix, annot=True, cmap='coolwarm')\n",
    "\n",
    "# Show the plot\n",
    "plt.show()"
   ]
  },
  {
   "cell_type": "code",
   "execution_count": 13,
   "metadata": {},
   "outputs": [
    {
     "name": "stdout",
     "output_type": "stream",
     "text": [
      "brand  APPLE                    ASUS               Avita              DELL    \\\n",
      "ram_gb  16 GB 32 GB 4 GB  8 GB   16 GB 4 GB  8 GB   16 GB 4 GB  8 GB   16 GB   \n",
      "Price                                                                          \n",
      "16990       0     0     0     0      0     0     0      0     0     0      0   \n",
      "17490       0     0     0     0      0     0     0      0     1     0      0   \n",
      "17990       0     0     0     0      0     1     0      0     0     0      0   \n",
      "18990       0     0     0     0      0     1     0      0     0     0      0   \n",
      "20490       0     0     0     0      0     1     0      0     0     0      0   \n",
      "...       ...   ...   ...   ...    ...   ...   ...    ...   ...   ...    ...   \n",
      "279990      0     0     0     0      0     0     0      0     0     0      0   \n",
      "291190      0     0     0     0      0     0     0      0     0     0      0   \n",
      "299990      0     0     0     0      1     0     0      0     0     0      0   \n",
      "309990      0     1     0     0      0     0     0      0     0     0      0   \n",
      "441990      0     0     0     0      1     0     0      0     0     0      0   \n",
      "\n",
      "brand              HP                 Lenovo             MSI                 \\\n",
      "ram_gb 4 GB  8 GB   16 GB 4 GB  8 GB   16 GB 4 GB  8 GB   16 GB 4 GB  8 GB    \n",
      "Price                                                                         \n",
      "16990      0     0      0     0     0      0     1     0      0     0     0   \n",
      "17490      0     0      0     0     0      0     0     0      0     0     0   \n",
      "17990      0     0      0     0     0      0     0     0      0     0     0   \n",
      "18990      0     0      0     0     0      0     0     0      0     0     0   \n",
      "20490      0     0      0     0     0      0     0     0      0     0     0   \n",
      "...      ...   ...    ...   ...   ...    ...   ...   ...    ...   ...   ...   \n",
      "279990     0     0      0     0     0      0     0     0      1     0     0   \n",
      "291190     0     0      0     0     0      0     0     0      0     0     1   \n",
      "299990     0     0      0     0     0      0     0     0      0     0     0   \n",
      "309990     0     0      0     0     0      0     0     0      0     0     0   \n",
      "441990     0     0      0     0     0      0     0     0      0     0     0   \n",
      "\n",
      "brand  acer                      \n",
      "ram_gb  16 GB 32 GB 4 GB  8 GB   \n",
      "Price                            \n",
      "16990       0     0     0     0  \n",
      "17490       0     0     0     0  \n",
      "17990       0     0     0     0  \n",
      "18990       0     0     0     0  \n",
      "20490       0     0     0     0  \n",
      "...       ...   ...   ...   ...  \n",
      "279990      0     0     0     0  \n",
      "291190      0     0     0     0  \n",
      "299990      0     0     0     0  \n",
      "309990      0     0     0     0  \n",
      "441990      0     0     0     0  \n",
      "\n",
      "[405 rows x 26 columns]\n"
     ]
    }
   ],
   "source": [
    "contigency_table = pd.crosstab(typed_df['Price'],[typed_df['brand'], typed_df['ram_gb']])\n",
    "print(contigency_table)"
   ]
  },
  {
   "cell_type": "code",
   "execution_count": 14,
   "metadata": {},
   "outputs": [
    {
     "name": "stdout",
     "output_type": "stream",
     "text": [
      "Chi-squared test statistic: 11380.66\n",
      "P-value: 0.0000\n",
      "Degrees of freedom: 10100\n",
      "Expected frequencies:\n",
      "[[0.01579587 0.00121507 0.00121507 ... 0.00121507 0.01579587 0.03402187]\n",
      " [0.01579587 0.00121507 0.00121507 ... 0.00121507 0.01579587 0.03402187]\n",
      " [0.01579587 0.00121507 0.00121507 ... 0.00121507 0.01579587 0.03402187]\n",
      " ...\n",
      " [0.01579587 0.00121507 0.00121507 ... 0.00121507 0.01579587 0.03402187]\n",
      " [0.01579587 0.00121507 0.00121507 ... 0.00121507 0.01579587 0.03402187]\n",
      " [0.01579587 0.00121507 0.00121507 ... 0.00121507 0.01579587 0.03402187]]\n"
     ]
    }
   ],
   "source": [
    "from scipy.stats import chi2_contingency\n",
    "# Perform a chi-squared test of independence between survival and sex/pclass\n",
    "chi2, pval, dof, expected = chi2_contingency(contigency_table)\n",
    "\n",
    "print(f\"Chi-squared test statistic: {chi2:.2f}\")\n",
    "print(f\"P-value: {pval:.4f}\")\n",
    "print(f\"Degrees of freedom: {dof}\")\n",
    "print(\"Expected frequencies:\")\n",
    "print(expected)"
   ]
  },
  {
   "cell_type": "code",
   "execution_count": 17,
   "metadata": {},
   "outputs": [
    {
     "data": {
      "image/png": "[encoded data removed]",
      "text/plain": [
       "<Figure size 598.375x500 with 1 Axes>"
      ]
     },
     "metadata": {},
     "output_type": "display_data"
    }
   ],
   "source": [
    "# Create a stacked bar chart of survival by sex and passenger class\n",
    "sns.catplot(x='brand', y='Price', hue='ram_gb', kind='bar', data=typed_df, errorbar=None)\n",
    "\n",
    "# Show the plot\n",
    "plt.show()"
   ]
  },
  {
   "cell_type": "code",
   "execution_count": 22,
   "metadata": {},
   "outputs": [
    {
     "data": {
      "image/png": "[encoded data removed]",
      "text/plain": [
       "<Figure size 640x480 with 1 Axes>"
      ]
     },
     "metadata": {},
     "output_type": "display_data"
    }
   ],
   "source": [
    "plt.scatter(typed_df['ssd'],typed_df['Price'])\n",
    "plt.xlabel('ssd',fontsize=20)\n",
    "plt.ylabel('Price',fontsize=20)\n",
    "plt.show()"
   ]
  }
 ],
 "metadata": {
  "kernelspec": {
   "display_name": "py3ML",
   "language": "python",
   "name": "python3"
  },
  "language_info": {
   "codemirror_mode": {
    "name": "ipython",
    "version": 3
   },
   "file_extension": ".py",
   "mimetype": "text/x-python",
   "name": "python",
   "nbconvert_exporter": "python",
   "pygments_lexer": "ipython3",
   "version": "3.11.2"
  },
  "orig_nbformat": 4
 },
 "nbformat": 4,
 "nbformat_minor": 2
}
